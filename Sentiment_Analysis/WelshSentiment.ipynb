{
 "cells": [
  {
   "cell_type": "code",
   "execution_count": 1,
   "metadata": {},
   "outputs": [],
   "source": [
    "import random\n",
    "import math\n"
   ]
  },
  {
   "cell_type": "code",
   "execution_count": 2,
   "metadata": {},
   "outputs": [],
   "source": [
    "# this should return either 0 (negative sentiment) or 1 (positive sentiment)\n",
    "def predict_from_scratch(tweet):\n",
    "  return 0\n"
   ]
  },
  {
   "cell_type": "code",
   "execution_count": 3,
   "metadata": {},
   "outputs": [],
   "source": [
    "# this should return either 0 (negative sentiment) or 1 (positive sentiment)\n",
    "def predict_anything_goes(tweet):\n",
    "  # do something complicated here\n",
    "  return random.randint(0,1)"
   ]
  },
  {
   "cell_type": "code",
   "execution_count": 6,
   "metadata": {},
   "outputs": [],
   "source": [
    "def evaluate():\n",
    "  total = 0\n",
    "  correct_from_scratch = 0\n",
    "  correct_anything_goes = 0\n",
    "  testfile = open('test.tsv', 'r')\n",
    "  for line in testfile:\n",
    "    total += 1\n",
    "    pieces = line.rstrip(\"\\n\").split(\"\\t\")\n",
    "    if predict_from_scratch(pieces[1]) == int(pieces[0]):\n",
    "      correct_from_scratch += 1\n",
    "    if predict_anything_goes(pieces[1]) == int(pieces[0]):\n",
    "      correct_anything_goes += 1\n",
    "  return (correct_from_scratch/total, correct_anything_goes/total)"
   ]
  },
  {
   "cell_type": "code",
   "execution_count": 5,
   "metadata": {},
   "outputs": [
    {
     "name": "stdout",
     "output_type": "stream",
     "text": [
      "c\n"
     ]
    }
   ],
   "source": []
  },
  {
   "cell_type": "code",
   "execution_count": null,
   "metadata": {},
   "outputs": [],
   "source": []
  }
 ],
 "metadata": {
  "kernelspec": {
   "display_name": "Python 3",
   "language": "python",
   "name": "python3"
  },
  "language_info": {
   "codemirror_mode": {
    "name": "ipython",
    "version": 3
   },
   "file_extension": ".py",
   "mimetype": "text/x-python",
   "name": "python",
   "nbconvert_exporter": "python",
   "pygments_lexer": "ipython3",
   "version": "3.6.8"
  }
 },
 "nbformat": 4,
 "nbformat_minor": 4
}
