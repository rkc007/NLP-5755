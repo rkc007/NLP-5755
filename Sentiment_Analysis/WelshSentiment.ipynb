{
 "cells": [
  {
   "cell_type": "markdown",
   "metadata": {
    "colab_type": "text",
    "id": "s1Q0dvWOvDev"
   },
   "source": [
    "# **Sentiment Analysis**\n",
    "\n",
    "![sentiment.png](https://cdn.brandmentions.com/blog/wp-content/uploads/2019/05/sentiment-analysys-brandmentions.png)\n",
    "\n",
    "> The code here are divided in 2 parts\n",
    "\n",
    "\n",
    "*   Done from scratch\n",
    "*   Used different algorithms to compare results\n",
    "\n",
    "\n",
    "\n",
    "\n",
    "\n",
    "\n",
    "\n",
    "\n"
   ]
  },
  {
   "cell_type": "markdown",
   "metadata": {
    "colab_type": "text",
    "id": "ydAYFAe9wE1C"
   },
   "source": [
    "All the important libraries are loaded in first step\n",
    "\n",
    "\n"
   ]
  },
  {
   "cell_type": "code",
   "execution_count": 1,
   "metadata": {
    "colab": {},
    "colab_type": "code",
    "id": "vYzcZ70WvBvv"
   },
   "outputs": [],
   "source": [
    "import pandas as pd \n",
    "import numpy as np \n",
    "from collections import defaultdict\n",
    "import re\n",
    "import json, nltk\n",
    "import matplotlib.pyplot as plt\n",
    "import csv\n",
    "from sklearn.metrics import accuracy_score\n",
    "%matplotlib inline\n",
    "from sklearn.metrics import classification_report\n",
    "from sklearn.linear_model import LogisticRegression\n",
    "from sklearn.naive_bayes import MultinomialNB  # Naive Bayes Classifier\n",
    "\n"
   ]
  },
  {
   "cell_type": "markdown",
   "metadata": {
    "colab_type": "text",
    "id": "h-LwzPJmwbTG"
   },
   "source": [
    "# **Naive Bayes from Scratch**"
   ]
  },
  {
   "cell_type": "code",
   "execution_count": 2,
   "metadata": {
    "colab": {
     "base_uri": "https://localhost:8080/",
     "height": 375
    },
    "colab_type": "code",
    "id": "oUjpbAU7wwN1",
    "outputId": "a15d1f82-e8d5-4d73-bf89-bf881db1d8ed"
   },
   "outputs": [
    {
     "name": "stderr",
     "output_type": "stream",
     "text": [
      "Skipping line 55429: Expected 2 fields in line 55429, saw 3\n"
     ]
    },
    {
     "data": {
      "text/html": [
       "<div>\n",
       "<style scoped>\n",
       "    .dataframe tbody tr th:only-of-type {\n",
       "        vertical-align: middle;\n",
       "    }\n",
       "\n",
       "    .dataframe tbody tr th {\n",
       "        vertical-align: top;\n",
       "    }\n",
       "\n",
       "    .dataframe thead th {\n",
       "        text-align: right;\n",
       "    }\n",
       "</style>\n",
       "<table border=\"1\" class=\"dataframe\">\n",
       "  <thead>\n",
       "    <tr style=\"text-align: right;\">\n",
       "      <th></th>\n",
       "      <th>sentiment</th>\n",
       "      <th>review</th>\n",
       "    </tr>\n",
       "  </thead>\n",
       "  <tbody>\n",
       "    <tr>\n",
       "      <th>0</th>\n",
       "      <td>0</td>\n",
       "      <td>@USER @USER a sicrhau bod mwy o arian poced 'd...</td>\n",
       "    </tr>\n",
       "    <tr>\n",
       "      <th>1</th>\n",
       "      <td>1</td>\n",
       "      <td>Parti Dolig da gyda tim swyddfa canolog @USER ...</td>\n",
       "    </tr>\n",
       "    <tr>\n",
       "      <th>2</th>\n",
       "      <td>0</td>\n",
       "      <td>@USER yeaah ma fe yn wir. ( oh well.</td>\n",
       "    </tr>\n",
       "    <tr>\n",
       "      <th>3</th>\n",
       "      <td>1</td>\n",
       "      <td>@USER hahaha idk. 3am oedd y bws ti?</td>\n",
       "    </tr>\n",
       "    <tr>\n",
       "      <th>4</th>\n",
       "      <td>0</td>\n",
       "      <td>@USER dwim yn gal llun ohoni?</td>\n",
       "    </tr>\n",
       "  </tbody>\n",
       "</table>\n",
       "</div>"
      ],
      "text/plain": [
       "  sentiment                                             review\n",
       "0         0  @USER @USER a sicrhau bod mwy o arian poced 'd...\n",
       "1         1  Parti Dolig da gyda tim swyddfa canolog @USER ...\n",
       "2         0               @USER yeaah ma fe yn wir. ( oh well.\n",
       "3         1               @USER hahaha idk. 3am oedd y bws ti?\n",
       "4         0                      @USER dwim yn gal llun ohoni?"
      ]
     },
     "execution_count": 2,
     "metadata": {},
     "output_type": "execute_result"
    }
   ],
   "source": [
    "    '''\n",
    "        Data Loading:\n",
    "        ----------\n",
    "        The data is loaded from a tsv file\n",
    "        ---------\n",
    "\n",
    "        Line Skipping : \n",
    "        ----------\n",
    "        There were few bugs in the dataset like pandas was not able to load quotes in a the same line so \"quoting=csv.QUOTE_NONE\" was used.\n",
    "    '''\n",
    "    \n",
    "training_set = pd.read_csv('./train.tsv', error_bad_lines=False,quoting=csv.QUOTE_NONE, sep='\\t', header=None, engine='python')\n",
    "training_set\n",
    "training_set.columns = ['sentiment', 'review']\n",
    "training_set = training_set[pd.notnull(training_set['review'])]\n",
    "training_set.head()\n"
   ]
  },
  {
   "cell_type": "code",
   "execution_count": 3,
   "metadata": {
    "colab": {},
    "colab_type": "code",
    "id": "UYvLGzcivBv1"
   },
   "outputs": [],
   "source": [
    "def preprocess_string(str_arg):\n",
    "    \n",
    "    \"\"\"\"\n",
    "        Parameters:\n",
    "        ----------\n",
    "        str_arg: example string to be preprocessed\n",
    "        \n",
    "        What the function does?\n",
    "        -----------------------\n",
    "        Preprocess the string argument - str_arg - such that :\n",
    "        1. everything apart from letters is excluded\n",
    "        2. multiple spaces are replaced by single space\n",
    "        3. str_arg is converted to lower case \n",
    "        \n",
    "        Example:\n",
    "        --------\n",
    "        Input :  Menu is absolutely perfect,loved it!\n",
    "        Output:  ['menu', 'is', 'absolutely', 'perfect', 'loved', 'it']\n",
    "        \n",
    "\n",
    "        Returns:\n",
    "        ---------\n",
    "        Preprocessed string \n",
    "        \n",
    "    \"\"\"\n",
    "    \n",
    "    cleaned_str=re.sub('[^a-z\\s]+',' ',str_arg,flags=re.IGNORECASE) #every char except alphabets is replaced\n",
    "    cleaned_str=re.sub('(\\s+)',' ',cleaned_str) #multiple spaces are replaced by single space\n",
    "    cleaned_str=cleaned_str.lower() #converting the cleaned string to lower case\n",
    "    \n",
    "    return cleaned_str # eturning the preprocessed string in tokenized form"
   ]
  },
  {
   "cell_type": "code",
   "execution_count": 4,
   "metadata": {
    "colab": {},
    "colab_type": "code",
    "id": "AmSDKXiPvBv5"
   },
   "outputs": [],
   "source": [
    "class NaiveBayes:\n",
    "    \n",
    "    def __init__(self,unique_classes):\n",
    "        \n",
    "        self.classes=unique_classes # Constructor is simply passed with unique number of classes of the training set\n",
    "        \n",
    "\n",
    "    def addToBow(self,example,dict_index):\n",
    "        \n",
    "        '''\n",
    "            Parameters:\n",
    "            1. example \n",
    "            2. dict_index - implies to which BoW category this example belongs to\n",
    "\n",
    "            What the function does?\n",
    "            -----------------------\n",
    "            It simply splits the example on the basis of space as a tokenizer and adds every tokenized word to\n",
    "            its corresponding dictionary/BoW\n",
    "\n",
    "            Returns:\n",
    "            ---------\n",
    "            Nothing\n",
    "        \n",
    "       '''\n",
    "        \n",
    "        if isinstance(example,np.ndarray): example=example[0]\n",
    "     \n",
    "        for token_word in example.split(): #for every word in preprocessed example\n",
    "          \n",
    "            self.bow_dicts[dict_index][token_word]+=1 #increment in its count\n",
    "            \n",
    "    def train(self,dataset,labels):\n",
    "        \n",
    "        '''\n",
    "            Parameters:\n",
    "            1. dataset - shape = (m X d)\n",
    "            2. labels - shape = (m,)\n",
    "\n",
    "            What the function does?\n",
    "            -----------------------\n",
    "            This is the training function which will train the Naive Bayes Model i.e compute a BoW for each\n",
    "            category/class. \n",
    "\n",
    "            Returns:\n",
    "            ---------\n",
    "            Nothing\n",
    "        \n",
    "        '''\n",
    "    \n",
    "        self.examples=dataset\n",
    "        self.labels=labels\n",
    "        self.bow_dicts=np.array([defaultdict(lambda:0) for index in range(self.classes.shape[0])])\n",
    "        \n",
    "        #only convert to numpy arrays if initially not passed as numpy arrays - else its a useless recomputation\n",
    "        \n",
    "        if not isinstance(self.examples,np.ndarray): self.examples=np.array(self.examples)\n",
    "        if not isinstance(self.labels,np.ndarray): self.labels=np.array(self.labels)\n",
    "            \n",
    "        #constructing BoW for each category\n",
    "        for cat_index,cat in enumerate(self.classes):\n",
    "          \n",
    "            all_cat_examples=self.examples[self.labels==cat] #filter all examples of category == cat\n",
    "            \n",
    "            #get examples preprocessed\n",
    "            \n",
    "            cleaned_examples=[preprocess_string(cat_example) for cat_example in all_cat_examples]\n",
    "            \n",
    "            cleaned_examples=pd.DataFrame(data=cleaned_examples)\n",
    "            \n",
    "            #now costruct BoW of this particular category\n",
    "            np.apply_along_axis(self.addToBow,1,cleaned_examples,cat_index)\n",
    "            \n",
    "                \n",
    "        ###################################################################################################\n",
    "        \n",
    "        '''\n",
    "            ------------------------------------------------------------------------------------\n",
    "            Computing : {for each word w [ count(w|c)+1 ] / [ count(c) + |V| + 1 ] } * p(c)\n",
    "            ------------------------------------------------------------------------------------\n",
    "            \n",
    "            We are done with constructing of BoW for each category. But we need to precompute a few \n",
    "            other calculations at training time too:\n",
    "            1. prior probability of each class - p(c)\n",
    "            2. vocabulary |V| \n",
    "            3. denominator value of each class - [ count(c) + |V| + 1 ] \n",
    "            \n",
    "        '''\n",
    "        \n",
    "        ###################################################################################################\n",
    "      \n",
    "        prob_classes=np.empty(self.classes.shape[0])\n",
    "        all_words=[]\n",
    "        cat_word_counts=np.empty(self.classes.shape[0])\n",
    "        for cat_index,cat in enumerate(self.classes):\n",
    "           \n",
    "            #Calculating prior probability p(c) for each class\n",
    "            prob_classes[cat_index]=np.sum(self.labels==cat)/float(self.labels.shape[0]) \n",
    "            \n",
    "            #Calculating total counts of all the words of each class \n",
    "            count=list(self.bow_dicts[cat_index].values())\n",
    "            cat_word_counts[cat_index]=np.sum(np.array(list(self.bow_dicts[cat_index].values())))+1 # |v| is remaining to be added\n",
    "            \n",
    "            #get all words of this category                                \n",
    "            all_words+=self.bow_dicts[cat_index].keys()\n",
    "                                                     \n",
    "        \n",
    "        #combine all words of every category & make them unique to get vocabulary -V- of entire training set\n",
    "        \n",
    "        self.vocab=np.unique(np.array(all_words))\n",
    "        self.vocab_length=self.vocab.shape[0]\n",
    "                                  \n",
    "        #computing denominator value                                      \n",
    "        denoms=np.array([cat_word_counts[cat_index]+self.vocab_length+1 for cat_index,cat in enumerate(self.classes)])                                                                          \n",
    "      \n",
    "        '''\n",
    "            Every element of self.cats_info has a tuple of values\n",
    "            Each tuple has a dict at index 0, prior probability at index 1, denominator value at index 2\n",
    "        '''\n",
    "        \n",
    "        self.cats_info=[(self.bow_dicts[cat_index],prob_classes[cat_index],denoms[cat_index]) for cat_index,cat in enumerate(self.classes)]                               \n",
    "        self.cats_info=np.array(self.cats_info)                                 \n",
    "                                              \n",
    "                                              \n",
    "    def getExampleProb(self,test_example):                                \n",
    "        \n",
    "        '''\n",
    "            Parameters:\n",
    "            -----------\n",
    "            1. a single test example \n",
    "\n",
    "            What the function does?\n",
    "            -----------------------\n",
    "            Function that estimates posterior probability of the given test example\n",
    "\n",
    "            Returns:\n",
    "            ---------\n",
    "            probability of test example in ALL CLASSES\n",
    "        '''                                      \n",
    "                                              \n",
    "        likelihood_prob=np.zeros(self.classes.shape[0]) #to store probability w.r.t each class\n",
    "        \n",
    "        #finding probability w.r.t each class of the given test example\n",
    "        for cat_index,cat in enumerate(self.classes): \n",
    "                             \n",
    "            for test_token in test_example.split(): #split the test example and get p of each test word\n",
    "                \n",
    "                ####################################################################################\n",
    "                                              \n",
    "                #This loop computes : for each word w [ count(w|c)+1 ] / [ count(c) + |V| + 1 ]                               \n",
    "                                              \n",
    "                ####################################################################################                              \n",
    "                \n",
    "                #get total count of this test token from it's respective training dict to get numerator value                           \n",
    "                test_token_counts=self.cats_info[cat_index][0].get(test_token,0)+1\n",
    "                \n",
    "                #now get likelihood of this test_token word                              \n",
    "                test_token_prob=test_token_counts/float(self.cats_info[cat_index][2])                              \n",
    "                \n",
    "                #taking log: To prevent underflow!\n",
    "                likelihood_prob[cat_index]+=np.log(test_token_prob)\n",
    "                                              \n",
    "        # we have likelihood estimate of the given example against every class but we need posterior probility\n",
    "        post_prob=np.empty(self.classes.shape[0])\n",
    "        for cat_index,cat in enumerate(self.classes):\n",
    "            post_prob[cat_index]=likelihood_prob[cat_index]+np.log(self.cats_info[cat_index][1])                                  \n",
    "      \n",
    "        return post_prob\n",
    "    \n",
    "   \n",
    "    def test(self,test_set):\n",
    "      \n",
    "        '''\n",
    "            Parameters:\n",
    "            -----------\n",
    "            1. A complete test set of shape (m,)\n",
    "            \n",
    "\n",
    "            What the function does?\n",
    "            -----------------------\n",
    "            Determines probability of each test example against all classes and predicts the label\n",
    "            against which the class probability is maximum\n",
    "\n",
    "            Returns:\n",
    "            ---------\n",
    "            Predictions of test examples - A single prediction against every test example\n",
    "        '''       \n",
    "       \n",
    "        predictions=[] #to store prediction of each test example\n",
    "        for example in test_set: \n",
    "                                              \n",
    "            #preprocess the test example the same way we did for training set exampels                                  \n",
    "            cleaned_example=preprocess_string(example) \n",
    "             \n",
    "            #simply get the posterior probability of every example                                  \n",
    "            post_prob=self.getExampleProb(cleaned_example) #get prob of this example for both classes\n",
    "            \n",
    "            #simply pick the max value and map against self.classes!\n",
    "            predictions.append(self.classes[np.argmax(post_prob)])\n",
    "                \n",
    "        return np.array(predictions)"
   ]
  },
  {
   "cell_type": "code",
   "execution_count": 5,
   "metadata": {
    "colab": {},
    "colab_type": "code",
    "id": "8B88jxVSvBwJ",
    "outputId": "19f7d0f5-535e-4660-f81b-893766e5201c"
   },
   "outputs": [
    {
     "name": "stdout",
     "output_type": "stream",
     "text": [
      "Unique Classes:  ['0' '1']\n",
      "Total Number of Training Examples:  (79999,)\n"
     ]
    }
   ],
   "source": [
    "\n",
    "    '''\n",
    "        Splitting dataset as we don't have seperate test dataset:\n",
    "        -----------\n",
    "        We used sklearn library to split the dataset randomly in to parts\n",
    "        train : 80%\n",
    "        test : 20%\n",
    "\n",
    "        The reason of using a libary was to make sure we have a proper shuffled dataset after splitting. We could have used defined function to do this but this helped in getting better dataset.\n",
    "    '''\n",
    "\n",
    "#getting training set examples labels\n",
    "y_train=training_set['sentiment'].values\n",
    "x_train=training_set['review'].values\n",
    "print (\"Unique Classes: \",np.unique(y_train))\n",
    "print (\"Total Number of Training Examples: \",x_train.shape)    \n",
    "\n",
    "from sklearn.model_selection import train_test_split\n",
    "train_data,test_data,train_labels,test_labels=train_test_split(x_train,y_train,shuffle=True,test_size=0.2,random_state=42,stratify=y_train)\n",
    "classes=np.unique(train_labels)\n",
    "\n",
    "\n"
   ]
  },
  {
   "cell_type": "code",
   "execution_count": 6,
   "metadata": {
    "colab": {},
    "colab_type": "code",
    "id": "u8yW847HBZoH"
   },
   "outputs": [
    {
     "name": "stdout",
     "output_type": "stream",
     "text": [
      "------------------Training In Progress------------------------\n",
      "Training Examples:  (63999,)\n",
      "------------------------Training Completed!\n"
     ]
    }
   ],
   "source": [
    "'''\n",
    "        Training: \n",
    "        -----------\n",
    "        We will be training our model here.\n",
    "        '''\n",
    "nb=NaiveBayes(classes)\n",
    "print (\"------------------Training In Progress------------------------\")\n",
    "print (\"Training Examples: \",train_data.shape)\n",
    "nb.train(train_data,train_labels)\n",
    "print ('------------------------Training Completed!')"
   ]
  },
  {
   "cell_type": "markdown",
   "metadata": {
    "colab_type": "text",
    "id": "lEsvpyhsz3vw"
   },
   "source": [
    "# **Different Algorithms**"
   ]
  },
  {
   "cell_type": "code",
   "execution_count": 7,
   "metadata": {
    "colab": {},
    "colab_type": "code",
    "id": "oySgUM810CGg"
   },
   "outputs": [
    {
     "data": {
      "text/plain": [
       "('review', 'sentiment')"
      ]
     },
     "execution_count": 7,
     "metadata": {},
     "output_type": "execute_result"
    }
   ],
   "source": [
    "#Assigning column names into variables\n",
    "tweet = training_set.columns.values[1]\n",
    "sentiment = training_set.columns.values[0]\n",
    "tweet, sentiment"
   ]
  },
  {
   "cell_type": "markdown",
   "metadata": {
    "colab_type": "text",
    "id": "dKE9iNqi1fWP"
   },
   "source": [
    "**Preprocessing**\n",
    "\n",
    "Convert every tweets to lower case\n",
    "\n",
    "*   Remove @USER username\n",
    "*   Remove punctuations, numbers and special characters\n",
    "*   Convert more than 2 letter repetitions to 2 letter ( example (coooool --> cool))\n",
    "*   Remove extra spaces\n",
    "* Remove @URL\n",
    "* Emoji analysis\n",
    "\n",
    "\n",
    "\n",
    "\n"
   ]
  },
  {
   "cell_type": "code",
   "execution_count": 8,
   "metadata": {
    "colab": {},
    "colab_type": "code",
    "id": "YT50dfXN1TBc"
   },
   "outputs": [],
   "source": [
    "# A function which handles emoji classification\n",
    "\n",
    "def emoji(tweet):\n",
    "    # Smile -- :), : ), :-), (:, ( :, (-:, :') , :O\n",
    "    tweet = re.sub(r'(:\\s?\\)|:-\\)|\\(\\s?:|\\(-:|:\\'\\)|:O)', ' positiveemoji ', tweet)\n",
    "    # Laugh -- :D, : D, :-D, xD, x-D, XD, X-D\n",
    "    tweet = re.sub(r'(:\\s?D|:-D|x-?D|X-?D)', ' positiveemoji ', tweet)\n",
    "    # Love -- <3, :*\n",
    "    tweet = re.sub(r'(<3|:\\*)', ' positiveemoji ', tweet)\n",
    "    # Wink -- ;-), ;), ;-D, ;D, (;,  (-; , @-)\n",
    "    tweet = re.sub(r'(;-?\\)|;-?D|\\(-?;|@-\\))', ' positiveemoji ', tweet)\n",
    "    # Sad -- :-(, : (, :(, ):, )-:, :-/ , :-|\n",
    "    tweet = re.sub(r'(:\\s?\\(|:-\\(|\\)\\s?:|\\)-:|:-/|:-\\|)', ' negetiveemoji ', tweet)\n",
    "    # Cry -- :,(, :'(, :\"(\n",
    "    tweet = re.sub(r'(:,\\(|:\\'\\(|:\"\\()', ' negetiveemoji ', tweet)\n",
    "    return tweet"
   ]
  },
  {
   "cell_type": "code",
   "execution_count": 9,
   "metadata": {
    "colab": {},
    "colab_type": "code",
    "id": "YHUDMZzh2MJG"
   },
   "outputs": [],
   "source": [
    "# A function which will preprocess the tweets\n",
    "def process_tweet(tweet):\n",
    "    tweet = tweet.lower()                                             # Lowercases the string\n",
    "    tweet = re.sub('@[^\\s]+', '', tweet)                              # Removes usernames\n",
    "    tweet = re.sub('((www\\.[^\\s]+)|(https?://[^\\s]+))', ' ', tweet)   # Remove URLs\n",
    "    tweet = re.sub(r\"\\d+\", \" \", str(tweet))                           # Removes all digits\n",
    "    tweet = re.sub('&quot;',\" \", tweet)                               # Remove (&quot;) \n",
    "    tweet = emoji(tweet)                                              # Replaces Emojis\n",
    "    tweet = re.sub(r\"\\b[a-zA-Z]\\b\", \"\", str(tweet))                   # Removes all single characters\n",
    "    tweet = re.sub(r\"[^\\w\\s]\", \" \", str(tweet))                       # Removes all punctuations\n",
    "    tweet = re.sub(r'(.)\\1+', r'\\1\\1', tweet)                         # Convert more than 2 letter repetitions to 2 letter\n",
    "    tweet = re.sub(r\"\\s+\", \" \", str(tweet))                           # Replaces double spaces with single space    \n",
    "    return tweet"
   ]
  },
  {
   "cell_type": "code",
   "execution_count": 10,
   "metadata": {
    "colab": {},
    "colab_type": "code",
    "id": "uGjrXJUn2Y3q"
   },
   "outputs": [
    {
     "data": {
      "text/html": [
       "<div>\n",
       "<style scoped>\n",
       "    .dataframe tbody tr th:only-of-type {\n",
       "        vertical-align: middle;\n",
       "    }\n",
       "\n",
       "    .dataframe tbody tr th {\n",
       "        vertical-align: top;\n",
       "    }\n",
       "\n",
       "    .dataframe thead th {\n",
       "        text-align: right;\n",
       "    }\n",
       "</style>\n",
       "<table border=\"1\" class=\"dataframe\">\n",
       "  <thead>\n",
       "    <tr style=\"text-align: right;\">\n",
       "      <th></th>\n",
       "      <th>sentiment</th>\n",
       "      <th>review</th>\n",
       "      <th>processed_tweet</th>\n",
       "    </tr>\n",
       "  </thead>\n",
       "  <tbody>\n",
       "    <tr>\n",
       "      <th>0</th>\n",
       "      <td>0</td>\n",
       "      <td>@USER @USER a sicrhau bod mwy o arian poced 'd...</td>\n",
       "      <td>sicrhau bod mwy arian poced da ti nes fe ti e...</td>\n",
       "    </tr>\n",
       "    <tr>\n",
       "      <th>1</th>\n",
       "      <td>1</td>\n",
       "      <td>Parti Dolig da gyda tim swyddfa canolog @USER ...</td>\n",
       "      <td>parti dolig da gyda tim swyddfa canolog ty gwy...</td>\n",
       "    </tr>\n",
       "    <tr>\n",
       "      <th>2</th>\n",
       "      <td>0</td>\n",
       "      <td>@USER yeaah ma fe yn wir. ( oh well.</td>\n",
       "      <td>yeaah ma fe yn wir oh well</td>\n",
       "    </tr>\n",
       "    <tr>\n",
       "      <th>3</th>\n",
       "      <td>1</td>\n",
       "      <td>@USER hahaha idk. 3am oedd y bws ti?</td>\n",
       "      <td>hahaha idk am oedd bws ti</td>\n",
       "    </tr>\n",
       "    <tr>\n",
       "      <th>4</th>\n",
       "      <td>0</td>\n",
       "      <td>@USER dwim yn gal llun ohoni?</td>\n",
       "      <td>dwim yn gal llun ohoni</td>\n",
       "    </tr>\n",
       "    <tr>\n",
       "      <th>5</th>\n",
       "      <td>0</td>\n",
       "      <td>@USER desparate housewives! Dadla be di gora h...</td>\n",
       "      <td>desparate housewives dadla be di gora heno gw...</td>\n",
       "    </tr>\n",
       "    <tr>\n",
       "      <th>6</th>\n",
       "      <td>1</td>\n",
       "      <td>@USER Diolch! Dweud wrtho Manon fi wedi txto h...</td>\n",
       "      <td>diolch dweud wrtho manon fi wedi txto hi</td>\n",
       "    </tr>\n",
       "    <tr>\n",
       "      <th>7</th>\n",
       "      <td>0</td>\n",
       "      <td>@USER mar boy yn hymian o nappies. Dwim isho s...</td>\n",
       "      <td>mar boy yn hymian nappies dwim isho siarad ef...</td>\n",
       "    </tr>\n",
       "    <tr>\n",
       "      <th>8</th>\n",
       "      <td>1</td>\n",
       "      <td>@USER mor browd, fe fyddai yn dangos ti faint ...</td>\n",
       "      <td>mor browd fe fyddai yn dangos ti faint mor aw...</td>\n",
       "    </tr>\n",
       "    <tr>\n",
       "      <th>9</th>\n",
       "      <td>0</td>\n",
       "      <td>being a grown-up sucks, dw i 'sho mynd i Vfest .</td>\n",
       "      <td>being grown up sucks dw sho mynd vfest</td>\n",
       "    </tr>\n",
       "  </tbody>\n",
       "</table>\n",
       "</div>"
      ],
      "text/plain": [
       "  sentiment                                             review  \\\n",
       "0         0  @USER @USER a sicrhau bod mwy o arian poced 'd...   \n",
       "1         1  Parti Dolig da gyda tim swyddfa canolog @USER ...   \n",
       "2         0               @USER yeaah ma fe yn wir. ( oh well.   \n",
       "3         1               @USER hahaha idk. 3am oedd y bws ti?   \n",
       "4         0                      @USER dwim yn gal llun ohoni?   \n",
       "5         0  @USER desparate housewives! Dadla be di gora h...   \n",
       "6         1  @USER Diolch! Dweud wrtho Manon fi wedi txto h...   \n",
       "7         0  @USER mar boy yn hymian o nappies. Dwim isho s...   \n",
       "8         1  @USER mor browd, fe fyddai yn dangos ti faint ...   \n",
       "9         0   being a grown-up sucks, dw i 'sho mynd i Vfest .   \n",
       "\n",
       "                                     processed_tweet  \n",
       "0   sicrhau bod mwy arian poced da ti nes fe ti e...  \n",
       "1  parti dolig da gyda tim swyddfa canolog ty gwy...  \n",
       "2                        yeaah ma fe yn wir oh well   \n",
       "3                         hahaha idk am oedd bws ti   \n",
       "4                            dwim yn gal llun ohoni   \n",
       "5   desparate housewives dadla be di gora heno gw...  \n",
       "6          diolch dweud wrtho manon fi wedi txto hi   \n",
       "7   mar boy yn hymian nappies dwim isho siarad ef...  \n",
       "8   mor browd fe fyddai yn dangos ti faint mor aw...  \n",
       "9            being grown up sucks dw sho mynd vfest   "
      ]
     },
     "execution_count": 10,
     "metadata": {},
     "output_type": "execute_result"
    }
   ],
   "source": [
    "# A new column for side by side comparison of new tweets vs old tweets\n",
    "training_set['processed_tweet'] = np.vectorize(process_tweet)(training_set[tweet])\n",
    "training_set.head(10)\n"
   ]
  },
  {
   "cell_type": "code",
   "execution_count": 11,
   "metadata": {
    "colab": {},
    "colab_type": "code",
    "id": "8phRH6p42lKp"
   },
   "outputs": [
    {
     "data": {
      "image/png": "[encoded data removed]",
      "text/plain": [
       "<Figure size 432x288 with 1 Axes>"
      ]
     },
     "metadata": {},
     "output_type": "display_data"
    }
   ],
   "source": [
    "'''\n",
    "    Analysing sentements on the basis of the data given\n",
    "    0 : Negative\n",
    "    1 : Positive\n",
    "'''\n",
    "\n",
    "sentiments = ['Positive Sentiment', 'Negetive Sentiment'] \n",
    "slices = [(training_set[sentiment] == '1').sum(), (training_set[sentiment] == '0').sum()] \n",
    "colors = ['g', 'r'] \n",
    "plt.pie(slices, labels = sentiments, colors=colors, startangle=90, shadow = True,\n",
    "        explode = (0, 0.1), radius = 1.5, autopct = '%1.2f%%') \n",
    "plt.legend()\n",
    "plt.show()"
   ]
  },
  {
   "cell_type": "code",
   "execution_count": 12,
   "metadata": {
    "colab": {},
    "colab_type": "code",
    "id": "RTrSNEQ53FL3"
   },
   "outputs": [
    {
     "data": {
      "text/plain": [
       "<79999x532794 sparse matrix of type '<class 'numpy.int64'>'\n",
       "\twith 1981728 stored elements in Compressed Sparse Row format>"
      ]
     },
     "execution_count": 12,
     "metadata": {},
     "output_type": "execute_result"
    }
   ],
   "source": [
    "'''\n",
    "      We have to extract or convert the text data into numbers without losing much of the information. \n",
    "      One way to do such transformation is Bag-Of-Words (BOW) which gives a number to each word but that is very inefficient. \n",
    "      So, a way to do it is by CountVectorizer: it counts the number of words in the document \n",
    "      i.e it converts a collection of text documents to a matrix of the counts of occurences of each word in the document.\n",
    "'''\n",
    "\n",
    "from sklearn.feature_extraction.text import CountVectorizer\n",
    "\n",
    "count_vectorizer = CountVectorizer(ngram_range=(1,2))    # Unigram and Bigram\n",
    "final_vectorized_data = count_vectorizer.fit_transform(training_set['review'])  \n",
    "final_vectorized_data"
   ]
  },
  {
   "cell_type": "code",
   "execution_count": 13,
   "metadata": {
    "colab": {},
    "colab_type": "code",
    "id": "TYFeLV3l3hec"
   },
   "outputs": [],
   "source": [
    "    '''\n",
    "        Splitting dataset as we don't have seperate test dataset:\n",
    "        -----------\n",
    "        We used sklearn library to split the dataset randomly in to parts\n",
    "        train : 80%\n",
    "        test : 20%\n",
    "    '''\n",
    "\n",
    "from sklearn.model_selection import train_test_split\n",
    "X_train, X_test, y_train, y_test = train_test_split(final_vectorized_data, training_set[sentiment], test_size=0.2, random_state=69)"
   ]
  },
  {
   "cell_type": "code",
   "execution_count": 14,
   "metadata": {
    "colab": {},
    "colab_type": "code",
    "id": "BGPImjs64WNB"
   },
   "outputs": [
    {
     "name": "stdout",
     "output_type": "stream",
     "text": [
      "X_train_shape :  (63999, 532794)\n",
      "X_test_shape :  (16000, 532794)\n",
      "y_train_shape :  (63999,)\n",
      "y_test_shape :  (16000,)\n"
     ]
    }
   ],
   "source": [
    "print(\"X_train_shape : \",X_train.shape)\n",
    "print(\"X_test_shape : \",X_test.shape)\n",
    "print(\"y_train_shape : \",y_train.shape)\n",
    "print(\"y_test_shape : \",y_test.shape)"
   ]
  },
  {
   "cell_type": "markdown",
   "metadata": {
    "colab_type": "text",
    "id": "9yG3xkrE4dZg"
   },
   "source": [
    "There are some popular classifiers under Naive Bayes\n",
    "\n",
    "*   Bernoulli Naive Bayes\n",
    "\n",
    "*  Gaussian Naive Bayes classifier\n",
    "*  Multinomial Naive Bayes\n",
    "\n",
    "\n",
    "\n",
    "\n",
    "\n",
    "We will use **Multinomial Naive Bayes classifier**"
   ]
  },
  {
   "cell_type": "code",
   "execution_count": 15,
   "metadata": {
    "colab": {},
    "colab_type": "code",
    "id": "GhOhwoLP4XQi"
   },
   "outputs": [],
   "source": [
    "\n",
    "model_naive = MultinomialNB().fit(X_train, y_train) \n",
    "predicted_naive = model_naive.predict(X_test)"
   ]
  },
  {
   "cell_type": "markdown",
   "metadata": {
    "colab_type": "text",
    "id": "qoYdI0RU6Sjr"
   },
   "source": [
    "Here we **LogisticRegression** to compare accuracy. \n",
    "\n",
    "Regularization (C) = 0.5 gave best accuracy. \n",
    "\n",
    "We tested for C = [0.01, 0.05, 0.25, 0.5, 1]"
   ]
  },
  {
   "cell_type": "code",
   "execution_count": 16,
   "metadata": {
    "colab": {},
    "colab_type": "code",
    "id": "rejofFo656EM"
   },
   "outputs": [
    {
     "data": {
      "text/plain": [
       "LogisticRegression(C=0.5, max_iter=7600)"
      ]
     },
     "execution_count": 16,
     "metadata": {},
     "output_type": "execute_result"
    }
   ],
   "source": [
    "lr = LogisticRegression(C=0.5,max_iter=7600,solver='lbfgs')\n",
    "lr.fit(X_train, y_train)\n"
   ]
  },
  {
   "cell_type": "code",
   "execution_count": 17,
   "metadata": {
    "colab": {},
    "colab_type": "code",
    "id": "RTrxqvrx7Ds3"
   },
   "outputs": [],
   "source": [
    "def evaluate():\n",
    "  #Calculating accuracy for Scratch part :\n",
    "  print (\"------------------Navive Bayes from Scratch------------------------\")\n",
    "  pclasses=nb.test(test_data)\n",
    "  test_acc=np.sum(pclasses==test_labels)/float(test_labels.shape[0])\n",
    "  print (\"Accuracy with Navive Bayes from Scratch: \",test_acc)\n",
    "\n",
    "  print('\\n')\n",
    "\n",
    "  #Calculating accuracy for Multinomial Naive Bayes :\n",
    "  print (\"------------------Multinomial Naive Bayes------------------------\")\n",
    "  score_naive = accuracy_score(predicted_naive, y_test)\n",
    "  print(\"Accuracy with Multinomial Naive Bayes: \",score_naive)\n",
    "\n",
    "  print('\\n')\n",
    "\n",
    "  #Calculating accuracy for Logistic Regression :\n",
    "  print (\"------------------Logistic Regression------------------------\")\n",
    "  score_logistic = accuracy_score(y_test, lr.predict(X_test))\n",
    "  print(\"Accuracy with Logistic Regression: \",score_logistic)\n",
    "\n",
    "  "
   ]
  },
  {
   "cell_type": "code",
   "execution_count": 18,
   "metadata": {
    "colab": {},
    "colab_type": "code",
    "id": "Hc6hdvyfEcZV"
   },
   "outputs": [
    {
     "name": "stdout",
     "output_type": "stream",
     "text": [
      "------------------Navive Bayes from Scratch------------------------\n",
      "Accuracy with Navive Bayes from Scratch:  0.736125\n",
      "\n",
      "\n",
      "------------------Multinomial Naive Bayes------------------------\n",
      "Accuracy with Multinomial Naive Bayes:  0.7465\n",
      "\n",
      "\n",
      "------------------Logistic Regression------------------------\n",
      "Accuracy with Logistic Regression:  0.7591875\n"
     ]
    }
   ],
   "source": [
    "evaluate()"
   ]
  },
  {
   "cell_type": "code",
   "execution_count": null,
   "metadata": {
    "colab": {},
    "colab_type": "code",
    "id": "qbBc65hPvBwW"
   },
   "outputs": [],
   "source": [
    "# def evaluate():\n",
    "#   total = 0\n",
    "#   correct_from_scratch = 0\n",
    "#   correct_anything_goes = 0\n",
    "#   testfile = open('test.tsv', 'r')\n",
    "#   for line in testfile:\n",
    "#     total += 1\n",
    "#     pieces = line.rstrip(\"\\n\").split(\"\\t\")\n",
    "#     if nb.test(pieces[1]) == int(pieces[0]):\n",
    "#       correct_from_scratch += 1\n",
    "#     if predict_anything_goes(pieces[1]) == int(pieces[0]):\n",
    "#       correct_anything_goes += 1\n",
    "#   return (correct_from_scratch/total, correct_anything_goes/total)"
   ]
  },
  {
   "cell_type": "markdown",
   "metadata": {
    "colab_type": "text",
    "id": "oUEH5voKN3md"
   },
   "source": [
    "# **Acknowledgement :**\n",
    "\n",
    "\n",
    "\n",
    "*  [Dr. Kevin Scannell](https://github.com/kscanne)\n",
    "*   [Medium](https://medium.com/@martinpella/naive-bayes-for-sentiment-analysis-49b37db18bf8)\n",
    "* [StackShare](https://stackabuse.com/the-naive-bayes-algorithm-in-python-with-scikit-learn/)\n",
    "\n"
   ]
  }
 ],
 "metadata": {
  "colab": {
   "collapsed_sections": [],
   "name": "WelshSentiment.ipynb",
   "provenance": []
  },
  "kernelspec": {
   "display_name": "Python 3",
   "language": "python",
   "name": "python3"
  },
  "language_info": {
   "codemirror_mode": {
    "name": "ipython",
    "version": 3
   },
   "file_extension": ".py",
   "mimetype": "text/x-python",
   "name": "python",
   "nbconvert_exporter": "python",
   "pygments_lexer": "ipython3",
   "version": "3.6.8"
  }
 },
 "nbformat": 4,
 "nbformat_minor": 1
}
