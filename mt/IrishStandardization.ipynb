{
 "cells": [
  {
   "cell_type": "markdown",
   "metadata": {
    "id": "ahFD11cZisu3"
   },
   "source": [
    "# **Closely-related Languages** \n",
    "\n",
    "![](https://i.imgur.com/PjrJo4X.png)\n",
    "\n",
    "**There are 2 implementations in this file**\n",
    "\n",
    "\n",
    "*   From Scratch\n",
    "*   Anything Goes\n",
    "\n",
    "\n"
   ]
  },
  {
   "cell_type": "markdown",
   "metadata": {
    "id": "2VyTKyxsktS3"
   },
   "source": [
    "# **Anything Goes**"
   ]
  },
  {
   "cell_type": "code",
   "execution_count": null,
   "metadata": {
    "id": "GVjguYcDiox0"
   },
   "outputs": [],
   "source": [
    "##Importing basic libraries for scratch implementation\n",
    "\n",
    "import sys\n",
    "import os\n",
    "import codecs\n",
    "import math\n",
    "from IPython.display import HTML, display\n"
   ]
  },
  {
   "cell_type": "code",
   "execution_count": null,
   "metadata": {
    "id": "KiALlffKiox6"
   },
   "outputs": [],
   "source": [
    "'''\n",
    "Loading file\n",
    "'''\n",
    "\n",
    "def load_data(file):\n",
    "    sentence = ''\n",
    "    references = []\n",
    "    data = open(file, 'r')\n",
    "    for line in data:\n",
    "        token = line.rstrip(\"\\n\")\n",
    "        if token == '<s>':\n",
    "          sentence = ''\n",
    "        elif token == '</s>':\n",
    "          references.append(sentence)\n",
    "        else:\n",
    "          sentence += token + ' '\n",
    "    return references\n",
    "    "
   ]
  },
  {
   "cell_type": "code",
   "execution_count": null,
   "metadata": {
    "id": "i69BcZBiiox-"
   },
   "outputs": [],
   "source": [
    "'''\n",
    "BP is an exponential decay\n",
    "Brevity Penalty(BP) will be 1.0 when the candidate translation length\n",
    "is the same as any reference translation length\n",
    "'''\n",
    "\n",
    "def brevity_penalty(candidate, reference):\n",
    "    if candidate > reference:\n",
    "        return 1\n",
    "    else:\n",
    "        tmp = 1-float(reference)/float(candidate)\n",
    "        return math.pow(math.e, tmp)"
   ]
  },
  {
   "cell_type": "code",
   "execution_count": null,
   "metadata": {
    "id": "NJiBw_H-ioyB"
   },
   "outputs": [],
   "source": [
    "\"\"\"\n",
    "Sum of the clipped n-gram counts for all the candidate sentences\n",
    "in the corpus divide by the number of candidate n-grams\n",
    "\n",
    "return: precision value\n",
    "\"\"\"\n",
    "def modified_precision(clipped_count, candidate_length):\n",
    "    precision = float(clipped_count)/float(candidate_length)\n",
    "    return math.log(precision)"
   ]
  },
  {
   "cell_type": "code",
   "execution_count": null,
   "metadata": {
    "id": "E2yMiOy1ioyF"
   },
   "outputs": [],
   "source": [
    "def get_clipped_dic(candidate_dic, reference_dic):\n",
    "    clipped_dic = {}\n",
    "    for key, value in candidate_dic.items():\n",
    "        if key in reference_dic:\n",
    "            ref_v = reference_dic[key]\n",
    "            clipped_dic[key] = min(value, ref_v)\n",
    "    return clipped_dic\n",
    "\n",
    "def get_clipped_dic_count(clipped_dic):\n",
    "    count = 0\n",
    "    for key, value in clipped_dic.items():\n",
    "        count += value\n",
    "    return count"
   ]
  },
  {
   "cell_type": "code",
   "execution_count": null,
   "metadata": {
    "id": "p7lcudD0ioyJ"
   },
   "outputs": [],
   "source": [
    "\n",
    "\"\"\"\n",
    "    Generate Ngram for each line.\n",
    "    @line: a line of words\n",
    "    @n: ngram\n",
    "    return: a dictionary of words and its counts\n",
    "\"\"\"\n",
    "\n",
    "def generate_n_gram(candidate, reference, n):\n",
    "    can_dic = {}\n",
    "    ref_dic = {}\n",
    "    can_list = candidate.split(\" \")\n",
    "    ref_list = reference.split(\" \")\n",
    "    can_len = 0\n",
    "\n",
    "    for i in range(0, len(can_list)-n+1):\n",
    "        key = \"\"\n",
    "        for j in range(0, n):\n",
    "            key += can_list[i+j]\n",
    "            key += \"/\"\n",
    "        can_len += 1\n",
    "        if key in can_dic:\n",
    "            can_dic[key] += 1\n",
    "        else:\n",
    "            can_dic[key] = 1\n",
    "\n",
    "    for i in range(0, len(ref_list)-n+1):\n",
    "        key = \"\"\n",
    "        for j in range(0,  n):\n",
    "            key += ref_list[i+j]\n",
    "            key += \"/\"\n",
    "\n",
    "        if key in ref_dic:\n",
    "            ref_dic[key] += 1\n",
    "        else:\n",
    "            ref_dic[key] = 1\n",
    "    return can_dic, ref_dic, can_len"
   ]
  },
  {
   "cell_type": "code",
   "execution_count": null,
   "metadata": {
    "id": "YzOEY33HioyN"
   },
   "outputs": [],
   "source": [
    "\"\"\"\n",
    "    Generating n-gram for the calculation of BLEU score.\n",
    "\"\"\"\n",
    "\n",
    "def get_count(candidate, reference, n):\n",
    "    can_dic, ref_dic, can_len = generate_n_gram(candidate, reference, n)\n",
    "    can_clipped_dic = get_clipped_dic(can_dic, ref_dic)\n",
    "    can_clipped_count = get_clipped_dic_count(can_clipped_dic)\n",
    "    return can_clipped_count, can_len\n"
   ]
  },
  {
   "cell_type": "code",
   "execution_count": null,
   "metadata": {
    "id": "ibUZfEJdioyQ"
   },
   "outputs": [],
   "source": [
    "\"\"\"\n",
    "    Individually calculating scores for all 4 grams\n",
    "\"\"\"\n",
    "\n",
    "\n",
    "\n",
    "def main(source, target):\n",
    "    can_len, ref_len = 0, 0\n",
    "\n",
    "    #Unigram model\n",
    "    uni_c, uni_t = 0, 0\n",
    "\n",
    "    #Bi gram model\n",
    "    bi_c, bi_t = 0, 0\n",
    "\n",
    "    #Tri gram model\n",
    "    tri_c, tri_t = 0, 0\n",
    "\n",
    "    #4 gram model\n",
    "    four_c, four_t = 0, 0\n",
    "    \n",
    "    source_data = load_data(source)\n",
    "    target_data = load_data(target)\n",
    "\n",
    "    for c_line, r_line in zip(source_data, target_data):\n",
    "        c_line = c_line.strip()\n",
    "        r_line = r_line.strip()\n",
    "        can_len += len(c_line.split(\" \"))\n",
    "        ref_len += len(r_line.split(\" \"))\n",
    "        \n",
    "        #Unigram model\n",
    "        c_c, t_c = get_count(c_line, r_line, 1)\n",
    "        uni_c += c_c\n",
    "        uni_t += t_c\n",
    "        \n",
    "        #Bi gram model\n",
    "        c_c, t_c = get_count(c_line, r_line, 2)\n",
    "        bi_c += c_c\n",
    "        bi_t += t_c\n",
    "        \n",
    "        #Tri gram model\n",
    "        c_c, t_c = get_count(c_line, r_line, 3)\n",
    "        tri_c += c_c\n",
    "        tri_t += t_c\n",
    "\n",
    "        #4 gram model\n",
    "        c_c, t_c = get_count(c_line, r_line, 4)\n",
    "        four_c += c_c\n",
    "        four_t += t_c\n",
    "        \n",
    "        \n",
    "#     Calculating precision for all 4 grams.\n",
    "#     Calculating Brevity Penalty.\n",
    "\n",
    "    uni_p = modified_precision(uni_c, uni_t)\n",
    "    bi_p = modified_precision(bi_c, bi_t)\n",
    "    tri_p = modified_precision(tri_c, tri_t)\n",
    "    four_p = modified_precision(four_c, four_t)\n",
    "    bp = brevity_penalty(can_len, ref_len)\n",
    "\n",
    "    score_uni = bp*math.exp(uni_p)\n",
    "    score_bi = bp*math.exp(bi_p)\n",
    "    score_tri = bp*math.exp(tri_p)\n",
    "    score_4 = bp*math.exp(four_p)\n",
    "    \n",
    "    return score_uni, score_bi, score_tri, score_4\n"
   ]
  },
  {
   "cell_type": "code",
   "execution_count": null,
   "metadata": {
    "id": "DB8FYglJioyU"
   },
   "outputs": [],
   "source": [
    "def evaluate():\n",
    "    source = 'train-source.txt'\n",
    "    target = 'train-target.txt'\n",
    "    \n",
    "    \n",
    "    source_test = 'test-source.txt'\n",
    "    target_test = 'test-target.txt' \n",
    "    \n",
    "    uni, bi, tri, four = main(source,target)\n",
    "    uni_t, bi_t, tri_t, four_t = main(source_test,target_test)\n",
    "    \n",
    "    print('----------------------BLEU Score Train------------------------')\n",
    "    data = [['Unigram :',uni],['Bigram : ',bi],['Trigram :',tri],['4gram :',four]]\n",
    "    display_table(data)\n",
    "    \n",
    "    print('----------------------BLEU Score Test------------------------')\n",
    "    data_t = [['Unigram :',uni_t],['Bigram : ',bi_t],['Trigram :',tri_t],['4gram :',four_t]]\n",
    "    display_table(data_t)\n",
    "    \n",
    "\n"
   ]
  },
  {
   "cell_type": "code",
   "execution_count": null,
   "metadata": {
    "id": "Pkn1OIxPioya"
   },
   "outputs": [],
   "source": [
    "#Printing everything\n",
    "def display_table(data):\n",
    "    html = \"<table>\"\n",
    "    for row in data:\n",
    "        html += \"<tr>\"\n",
    "        for field in row:\n",
    "            html += \"<td><h4>%s</h4><td>\"%(field)\n",
    "        html += \"</tr>\"\n",
    "    html += \"</table>\"\n",
    "    display(HTML(html))"
   ]
  },
  {
   "cell_type": "code",
   "execution_count": null,
   "metadata": {
    "id": "GSDXYjrOioyd",
    "outputId": "69282787-c0b7-475a-8d17-426f79dde949"
   },
   "outputs": [
    {
     "name": "stdout",
     "output_type": "stream",
     "text": [
      "----------------------BLEU Score Train------------------------\n"
     ]
    },
    {
     "data": {
      "text/html": [
       "<table><tr><td><h4>Unigram :</h4><td><td><h4>0.7517325357522582</h4><td></tr><tr><td><h4>Bigram : </h4><td><td><h4>0.5636116001979694</h4><td></tr><tr><td><h4>Trigram :</h4><td><td><h4>0.42760825232225785</h4><td></tr><tr><td><h4>4gram :</h4><td><td><h4>0.3239967134640803</h4><td></tr></table>"
      ],
      "text/plain": [
       "<IPython.core.display.HTML object>"
      ]
     },
     "metadata": {
      "tags": []
     },
     "output_type": "display_data"
    },
    {
     "name": "stdout",
     "output_type": "stream",
     "text": [
      "----------------------BLEU Score Test------------------------\n"
     ]
    },
    {
     "data": {
      "text/html": [
       "<table><tr><td><h4>Unigram :</h4><td><td><h4>0.7743372494213215</h4><td></tr><tr><td><h4>Bigram : </h4><td><td><h4>0.5926382609489884</h4><td></tr><tr><td><h4>Trigram :</h4><td><td><h4>0.45729052017035937</h4><td></tr><tr><td><h4>4gram :</h4><td><td><h4>0.3525154545911444</h4><td></tr></table>"
      ],
      "text/plain": [
       "<IPython.core.display.HTML object>"
      ]
     },
     "metadata": {
      "tags": []
     },
     "output_type": "display_data"
    }
   ],
   "source": [
    "evaluate()"
   ]
  },
  {
   "cell_type": "markdown",
   "metadata": {
    "id": "3yikJ4FWioyi"
   },
   "source": [
    ""
   ]
  },
  {
   "cell_type": "markdown",
   "metadata": {
    "id": "0lapjO-mk6-U"
   },
   "source": [
    "# **Anything Goes**"
   ]
  },
  {
   "cell_type": "code",
   "execution_count": null,
   "metadata": {
    "id": "ZfPrHwxKlOpj"
   },
   "outputs": [],
   "source": [
    "## Import the Required Libraries\n",
    "\n",
    "import string\n",
    "import re\n",
    "from numpy import array, argmax, random, take\n",
    "import pandas as pd\n",
    "from keras.models import Sequential\n",
    "from keras.layers import Dense, LSTM, Embedding, RepeatVector\n",
    "from keras.preprocessing.text import Tokenizer\n",
    "from keras.callbacks import ModelCheckpoint\n",
    "from keras.preprocessing.sequence import pad_sequences\n",
    "from keras.models import load_model\n",
    "from keras import optimizers\n",
    "import matplotlib.pyplot as plt\n",
    "%matplotlib inline\n",
    "pd.set_option('display.max_colwidth', 200)"
   ]
  },
  {
   "cell_type": "code",
   "execution_count": null,
   "metadata": {
    "id": "YjDO5jvGioyp"
   },
   "outputs": [],
   "source": [
    "## Function to load target and source files\n",
    "\n",
    "def load_data(file):\n",
    "    sentence = ''\n",
    "    references = []\n",
    "    data = open(file, 'r')\n",
    "    for line in data:\n",
    "        token = line.rstrip(\"\\n\")\n",
    "        if token == '<s>':\n",
    "          sentence = ''\n",
    "        elif token == '</s>':\n",
    "          references.append(sentence)\n",
    "        else:\n",
    "          sentence += token + ' '\n",
    "    return references\n"
   ]
  },
  {
   "cell_type": "code",
   "execution_count": null,
   "metadata": {
    "id": "jy2yzsarioys",
    "outputId": "fa3196a2-6edc-4785-bf3b-ea3b2a918471"
   },
   "outputs": [
    {
     "name": "stdout",
     "output_type": "stream",
     "text": [
      "45171\n",
      "45171\n",
      "1000\n",
      "1000\n"
     ]
    }
   ],
   "source": [
    "## Loading files\n",
    "\n",
    "source = 'train-source.txt'\n",
    "target = 'train-target.txt'\n",
    "\n",
    "source_test = 'test-source.txt'\n",
    "target_test = 'test-target.txt'\n",
    "\n",
    "\n",
    "x = load_data(source)\n",
    "y = load_data(target)\n",
    "\n",
    "x_test = load_data(source_test)\n",
    "y_test = load_data(source_test)\n",
    "\n",
    "print(len(x))\n",
    "print(len(y))\n",
    "\n",
    "print(len(x_test))\n",
    "print(len(y_test))"
   ]
  },
  {
   "cell_type": "code",
   "execution_count": null,
   "metadata": {
    "id": "F0hP6wzmioyw"
   },
   "outputs": [],
   "source": [
    "##Zipping sentences together\n",
    "\n",
    "sentences = []\n",
    "for s,t in zip(x, y):\n",
    "    sentences.append([s,t])\n",
    "    \n",
    "sentences_test = []\n",
    "for s_t,t_t in zip(x_test, y_test):\n",
    "    sentences_test.append([s_t,t_t])"
   ]
  },
  {
   "cell_type": "code",
   "execution_count": null,
   "metadata": {
    "id": "RibkCz9kioy0"
   },
   "outputs": [],
   "source": [
    "sentences = array(sentences)\n",
    "\n",
    "sentences_test = array(sentences_test)\n"
   ]
  },
  {
   "cell_type": "code",
   "execution_count": null,
   "metadata": {
    "id": "hUZFb9O9ioy4"
   },
   "outputs": [],
   "source": [
    "## Here we get rid of the punctuation marks.\n",
    "\n",
    "sentences[:,0] = [s.translate(str.maketrans('', '', string.punctuation)) for s in sentences[:,0]]\n",
    "sentences[:,1] = [s.translate(str.maketrans('', '', string.punctuation)) for s in sentences[:,1]]\n",
    "\n",
    "sentences_test[:,0] = [s.translate(str.maketrans('', '', string.punctuation)) for s in sentences_test[:,0]]\n",
    "sentences_test[:,1] = [s.translate(str.maketrans('', '', string.punctuation)) for s in sentences_test[:,1]]"
   ]
  },
  {
   "cell_type": "markdown",
   "metadata": {
    "id": "uZn1nNT1lr8W"
   },
   "source": [
    "**Text to Sequence Conversion**\n",
    "\n",
    "A Seq2Seq model requires that we convert both the input and the output sentences into integer sequences of fixed length.\n"
   ]
  },
  {
   "cell_type": "code",
   "execution_count": null,
   "metadata": {
    "id": "2F5pmEbOioy7",
    "outputId": "1fbba2b5-a3d3-4e33-b67a-edf817099eae"
   },
   "outputs": [
    {
     "data": {
      "image/png": "[encoded data removed]",
      "text/plain": [
       "<Figure size 432x288 with 2 Axes>"
      ]
     },
     "metadata": {
      "needs_background": "light",
      "tags": []
     },
     "output_type": "display_data"
    }
   ],
   "source": [
    "# empty lists\n",
    "old_irish = []\n",
    "new_irish = []\n",
    "\n",
    "# populate the lists with sentence lengths\n",
    "for i in sentences[:,0]:\n",
    "      old_irish.append(len(i.split()))\n",
    "\n",
    "for i in sentences[:,1]:\n",
    "      new_irish.append(len(i.split()))\n",
    "\n",
    "length_df = pd.DataFrame({'Old Irish':old_irish, 'New Irish':new_irish})\n",
    "\n",
    "length_df.hist(bins = 30)\n",
    "plt.show()"
   ]
  },
  {
   "cell_type": "markdown",
   "metadata": {
    "id": "rRwKBDXxl6n6"
   },
   "source": [
    "Here we vectorize our text data by using Keras’s Tokenizer() class. It will turn our sentences into sequences of integers. We can then pad those sequences with zeros to make all the sequences of the same length."
   ]
  },
  {
   "cell_type": "code",
   "execution_count": null,
   "metadata": {
    "id": "a7sRsczFioy_"
   },
   "outputs": [],
   "source": [
    "# function to build a tokenizer\n",
    "def tokenization(lines):\n",
    "      tokenizer = Tokenizer()\n",
    "      tokenizer.fit_on_texts(lines)\n",
    "      return tokenizer"
   ]
  },
  {
   "cell_type": "code",
   "execution_count": null,
   "metadata": {
    "id": "H7IJOLL1iozC",
    "outputId": "8d826f29-b2bd-44cd-92e9-6594cdea96cb"
   },
   "outputs": [
    {
     "name": "stdout",
     "output_type": "stream",
     "text": [
      "Old Irish Vocabulary Size: 29468\n",
      "Old Irish Vocabulary Size(Test): 3188\n"
     ]
    }
   ],
   "source": [
    "# prepare old irish tokenizer\n",
    "old_tokenizer = tokenization(sentences[:, 0])\n",
    "old_vocab_size = len(old_tokenizer.word_index) + 1\n",
    "\n",
    "old_length = 8\n",
    "print('Old Irish Vocabulary Size: %d' % old_vocab_size)\n",
    "\n",
    "# prepare old irish tokenizer\n",
    "old_tokenizer_test = tokenization(sentences_test[:, 0])\n",
    "old_vocab_size_test = len(old_tokenizer_test.word_index) + 1\n",
    "\n",
    "old_length = 8\n",
    "print('Old Irish Vocabulary Size(Test): %d' % old_vocab_size_test)"
   ]
  },
  {
   "cell_type": "code",
   "execution_count": null,
   "metadata": {
    "id": "GK99auFMiozH",
    "outputId": "df902b05-1a22-4afb-96ed-6cd0c832f29c"
   },
   "outputs": [
    {
     "name": "stdout",
     "output_type": "stream",
     "text": [
      "New Irish Vocabulary Size: 25072\n",
      "New Irish Vocabulary Size(Test): 3188\n"
     ]
    }
   ],
   "source": [
    "# prepare new irish tokenizer\n",
    "new_tokenizer = tokenization(sentences[:, 1])\n",
    "new_vocab_size = len(new_tokenizer.word_index) + 1\n",
    "\n",
    "new_length = 8\n",
    "print('New Irish Vocabulary Size: %d' % new_vocab_size)\n",
    "\n",
    "# prepare new irish tokenizer\n",
    "new_tokenizer_test = tokenization(sentences_test[:, 1])\n",
    "new_vocab_size_test = len(new_tokenizer_test.word_index) + 1\n",
    "\n",
    "new_length = 8\n",
    "print('New Irish Vocabulary Size(Test): %d' % new_vocab_size_test)"
   ]
  },
  {
   "cell_type": "markdown",
   "metadata": {
    "id": "viTwo8QxmDZ8"
   },
   "source": [
    "The below code block contains a function to prepare the sequences. It will also perform sequence padding to a maximum sentence length."
   ]
  },
  {
   "cell_type": "code",
   "execution_count": null,
   "metadata": {
    "id": "D9IYyeKIiozL"
   },
   "outputs": [],
   "source": [
    "# encode and pad sequences\n",
    "def encode_sequences(tokenizer, length, lines):\n",
    "         # integer encode sequences\n",
    "         seq = tokenizer.texts_to_sequences(lines)\n",
    "         # pad sequences with 0 values\n",
    "         seq = pad_sequences(seq, maxlen=length, padding='post')\n",
    "         return seq"
   ]
  },
  {
   "cell_type": "code",
   "execution_count": null,
   "metadata": {
    "id": "ytZ-MBTtiozO"
   },
   "outputs": [],
   "source": [
    "\n",
    "train = sentences\n",
    "test = sentences_test"
   ]
  },
  {
   "cell_type": "code",
   "execution_count": null,
   "metadata": {
    "id": "vUdouZeTiozR"
   },
   "outputs": [],
   "source": [
    "# prepare training data\n",
    "trainX = encode_sequences(old_tokenizer, old_length, train[:, 0])\n",
    "trainY = encode_sequences(new_tokenizer, new_length, train[:, 1])\n",
    "\n",
    "# prepare validation data\n",
    "testX = encode_sequences(old_tokenizer_test, old_length, test[:, 0])\n",
    "testY = encode_sequences(new_tokenizer_test, new_length, test[:, 1])"
   ]
  },
  {
   "cell_type": "markdown",
   "metadata": {
    "id": "m7OGs6p1mLVa"
   },
   "source": [
    "We’ll start off by defining our Seq2Seq model architecture:\n",
    "\n",
    "* For the encoder, we will use an embedding layer and an LSTM layer\n",
    "* For the decoder, we will use another LSTM layer followed by a dense layer"
   ]
  },
  {
   "cell_type": "code",
   "execution_count": null,
   "metadata": {
    "id": "yPnf9NvNiozU"
   },
   "outputs": [],
   "source": [
    "# build NMT model\n",
    "def define_model(in_vocab,out_vocab, in_timesteps,out_timesteps,units):\n",
    "      model = Sequential()\n",
    "      model.add(Embedding(in_vocab, units, input_length=in_timesteps, mask_zero=True))\n",
    "      model.add(LSTM(units))\n",
    "      model.add(RepeatVector(out_timesteps))\n",
    "      model.add(LSTM(units, return_sequences=True))\n",
    "      model.add(Dense(out_vocab, activation='softmax'))\n",
    "      return model"
   ]
  },
  {
   "cell_type": "markdown",
   "metadata": {
    "id": "cYoFNdYlmYtA"
   },
   "source": [
    "We will train it for 30 epochs and with a batch size of 512\n",
    "\n",
    "\n"
   ]
  },
  {
   "cell_type": "code",
   "execution_count": null,
   "metadata": {
    "id": "sv-JjoyKiozY"
   },
   "outputs": [],
   "source": [
    "# model compilation\n",
    "model = define_model(old_vocab_size, new_vocab_size, old_length, new_length, 512)"
   ]
  },
  {
   "cell_type": "code",
   "execution_count": null,
   "metadata": {
    "id": "bFrmIk5Miozc"
   },
   "outputs": [],
   "source": [
    "rms = optimizers.RMSprop(lr=0.001)\n",
    "model.compile(optimizer=rms, loss='sparse_categorical_crossentropy')"
   ]
  },
  {
   "cell_type": "markdown",
   "metadata": {
    "id": "YtmPiyxLmdVP"
   },
   "source": [
    "Here we are using the ModelCheckpoint() function to save the model with the lowest validation loss"
   ]
  },
  {
   "cell_type": "code",
   "execution_count": null,
   "metadata": {
    "id": "QYEvIgRriozf",
    "outputId": "3554ab84-5e7f-413a-d139-0321298316a7"
   },
   "outputs": [
    {
     "name": "stdout",
     "output_type": "stream",
     "text": [
      "Epoch 1/30\n",
      "71/71 [==============================] - ETA: 0s - loss: 6.8201\n",
      "Epoch 00001: val_loss improved from inf to 6.40146, saving model to model.h1.rkc_nlp_mt\n",
      "WARNING:tensorflow:From /student/rchauhan1/VirtualENV/cryoEM_env/lib/python3.8/site-packages/tensorflow/python/ops/resource_variable_ops.py:1813: calling BaseResourceVariable.__init__ (from tensorflow.python.ops.resource_variable_ops) with constraint is deprecated and will be removed in a future version.\n",
      "Instructions for updating:\n",
      "If using Keras pass *_constraint arguments to layers.\n",
      "INFO:tensorflow:Assets written to: model.h1.rkc_nlp_mt/assets\n",
      "71/71 [==============================] - 132s 2s/step - loss: 6.8201 - val_loss: 6.4015\n",
      "Epoch 2/30\n",
      "71/71 [==============================] - ETA: 0s - loss: 6.4118\n",
      "Epoch 00002: val_loss improved from 6.40146 to 6.39783, saving model to model.h1.rkc_nlp_mt\n",
      "INFO:tensorflow:Assets written to: model.h1.rkc_nlp_mt/assets\n",
      "71/71 [==============================] - 136s 2s/step - loss: 6.4118 - val_loss: 6.3978\n",
      "Epoch 3/30\n",
      "71/71 [==============================] - ETA: 0s - loss: 6.2888\n",
      "Epoch 00003: val_loss improved from 6.39783 to 6.17902, saving model to model.h1.rkc_nlp_mt\n",
      "INFO:tensorflow:Assets written to: model.h1.rkc_nlp_mt/assets\n",
      "71/71 [==============================] - 98s 1s/step - loss: 6.2888 - val_loss: 6.1790\n",
      "Epoch 4/30\n",
      "71/71 [==============================] - ETA: 0s - loss: 6.1327\n",
      "Epoch 00004: val_loss improved from 6.17902 to 6.12314, saving model to model.h1.rkc_nlp_mt\n",
      "INFO:tensorflow:Assets written to: model.h1.rkc_nlp_mt/assets\n",
      "71/71 [==============================] - 100s 1s/step - loss: 6.1327 - val_loss: 6.1231\n",
      "Epoch 5/30\n",
      "71/71 [==============================] - ETA: 0s - loss: 5.9640\n",
      "Epoch 00005: val_loss improved from 6.12314 to 5.91650, saving model to model.h1.rkc_nlp_mt\n",
      "INFO:tensorflow:Assets written to: model.h1.rkc_nlp_mt/assets\n",
      "71/71 [==============================] - 99s 1s/step - loss: 5.9640 - val_loss: 5.9165\n",
      "Epoch 6/30\n",
      "71/71 [==============================] - ETA: 0s - loss: 5.7283\n",
      "Epoch 00006: val_loss improved from 5.91650 to 5.68813, saving model to model.h1.rkc_nlp_mt\n",
      "INFO:tensorflow:Assets written to: model.h1.rkc_nlp_mt/assets\n",
      "71/71 [==============================] - 99s 1s/step - loss: 5.7283 - val_loss: 5.6881\n",
      "Epoch 7/30\n",
      "71/71 [==============================] - ETA: 0s - loss: 5.4453\n",
      "Epoch 00007: val_loss improved from 5.68813 to 5.45957, saving model to model.h1.rkc_nlp_mt\n",
      "INFO:tensorflow:Assets written to: model.h1.rkc_nlp_mt/assets\n",
      "71/71 [==============================] - 98s 1s/step - loss: 5.4453 - val_loss: 5.4596\n",
      "Epoch 8/30\n",
      "71/71 [==============================] - ETA: 0s - loss: 5.1396\n",
      "Epoch 00008: val_loss improved from 5.45957 to 5.24733, saving model to model.h1.rkc_nlp_mt\n",
      "INFO:tensorflow:Assets written to: model.h1.rkc_nlp_mt/assets\n",
      "71/71 [==============================] - 98s 1s/step - loss: 5.1396 - val_loss: 5.2473\n",
      "Epoch 9/30\n",
      "71/71 [==============================] - ETA: 0s - loss: 4.8220\n",
      "Epoch 00009: val_loss improved from 5.24733 to 5.03971, saving model to model.h1.rkc_nlp_mt\n",
      "INFO:tensorflow:Assets written to: model.h1.rkc_nlp_mt/assets\n",
      "71/71 [==============================] - 98s 1s/step - loss: 4.8220 - val_loss: 5.0397\n",
      "Epoch 10/30\n",
      "71/71 [==============================] - ETA: 0s - loss: 4.5091\n",
      "Epoch 00010: val_loss improved from 5.03971 to 4.90454, saving model to model.h1.rkc_nlp_mt\n",
      "INFO:tensorflow:Assets written to: model.h1.rkc_nlp_mt/assets\n",
      "71/71 [==============================] - 98s 1s/step - loss: 4.5091 - val_loss: 4.9045\n",
      "Epoch 11/30\n",
      "71/71 [==============================] - ETA: 0s - loss: 4.2214\n",
      "Epoch 00011: val_loss improved from 4.90454 to 4.67477, saving model to model.h1.rkc_nlp_mt\n",
      "INFO:tensorflow:Assets written to: model.h1.rkc_nlp_mt/assets\n",
      "71/71 [==============================] - 97s 1s/step - loss: 4.2214 - val_loss: 4.6748\n",
      "Epoch 12/30\n",
      "71/71 [==============================] - ETA: 0s - loss: 3.9417\n",
      "Epoch 00012: val_loss improved from 4.67477 to 4.60023, saving model to model.h1.rkc_nlp_mt\n",
      "INFO:tensorflow:Assets written to: model.h1.rkc_nlp_mt/assets\n",
      "71/71 [==============================] - 95s 1s/step - loss: 3.9417 - val_loss: 4.6002\n",
      "Epoch 13/30\n",
      "71/71 [==============================] - ETA: 0s - loss: 3.6913\n",
      "Epoch 00013: val_loss improved from 4.60023 to 4.36818, saving model to model.h1.rkc_nlp_mt\n",
      "INFO:tensorflow:Assets written to: model.h1.rkc_nlp_mt/assets\n",
      "71/71 [==============================] - 95s 1s/step - loss: 3.6913 - val_loss: 4.3682\n",
      "Epoch 14/30\n",
      "71/71 [==============================] - ETA: 0s - loss: 3.4503\n",
      "Epoch 00014: val_loss improved from 4.36818 to 4.26924, saving model to model.h1.rkc_nlp_mt\n",
      "INFO:tensorflow:Assets written to: model.h1.rkc_nlp_mt/assets\n",
      "71/71 [==============================] - 96s 1s/step - loss: 3.4503 - val_loss: 4.2692\n",
      "Epoch 15/30\n",
      "71/71 [==============================] - ETA: 0s - loss: 3.2151\n",
      "Epoch 00015: val_loss improved from 4.26924 to 4.17307, saving model to model.h1.rkc_nlp_mt\n",
      "INFO:tensorflow:Assets written to: model.h1.rkc_nlp_mt/assets\n",
      "71/71 [==============================] - 95s 1s/step - loss: 3.2151 - val_loss: 4.1731\n",
      "Epoch 16/30\n",
      "71/71 [==============================] - ETA: 0s - loss: 2.9966\n",
      "Epoch 00016: val_loss improved from 4.17307 to 4.06369, saving model to model.h1.rkc_nlp_mt\n",
      "INFO:tensorflow:Assets written to: model.h1.rkc_nlp_mt/assets\n",
      "71/71 [==============================] - 96s 1s/step - loss: 2.9966 - val_loss: 4.0637\n",
      "Epoch 17/30\n",
      "71/71 [==============================] - ETA: 0s - loss: 2.7864\n",
      "Epoch 00017: val_loss improved from 4.06369 to 3.97462, saving model to model.h1.rkc_nlp_mt\n",
      "INFO:tensorflow:Assets written to: model.h1.rkc_nlp_mt/assets\n",
      "71/71 [==============================] - 96s 1s/step - loss: 2.7864 - val_loss: 3.9746\n",
      "Epoch 18/30\n",
      "71/71 [==============================] - ETA: 0s - loss: 2.5847\n",
      "Epoch 00018: val_loss improved from 3.97462 to 3.94725, saving model to model.h1.rkc_nlp_mt\n",
      "INFO:tensorflow:Assets written to: model.h1.rkc_nlp_mt/assets\n",
      "71/71 [==============================] - 95s 1s/step - loss: 2.5847 - val_loss: 3.9473\n",
      "Epoch 19/30\n",
      "71/71 [==============================] - ETA: 0s - loss: 2.3937\n",
      "Epoch 00019: val_loss improved from 3.94725 to 3.82438, saving model to model.h1.rkc_nlp_mt\n",
      "INFO:tensorflow:Assets written to: model.h1.rkc_nlp_mt/assets\n",
      "71/71 [==============================] - 96s 1s/step - loss: 2.3937 - val_loss: 3.8244\n",
      "Epoch 20/30\n",
      "71/71 [==============================] - ETA: 0s - loss: 2.2119\n",
      "Epoch 00020: val_loss improved from 3.82438 to 3.72052, saving model to model.h1.rkc_nlp_mt\n",
      "INFO:tensorflow:Assets written to: model.h1.rkc_nlp_mt/assets\n",
      "71/71 [==============================] - 97s 1s/step - loss: 2.2119 - val_loss: 3.7205\n",
      "Epoch 21/30\n",
      "71/71 [==============================] - ETA: 0s - loss: 2.0376\n",
      "Epoch 00021: val_loss improved from 3.72052 to 3.68315, saving model to model.h1.rkc_nlp_mt\n",
      "INFO:tensorflow:Assets written to: model.h1.rkc_nlp_mt/assets\n",
      "71/71 [==============================] - 96s 1s/step - loss: 2.0376 - val_loss: 3.6831\n",
      "Epoch 22/30\n",
      "71/71 [==============================] - ETA: 0s - loss: 1.8782\n",
      "Epoch 00022: val_loss improved from 3.68315 to 3.64895, saving model to model.h1.rkc_nlp_mt\n",
      "INFO:tensorflow:Assets written to: model.h1.rkc_nlp_mt/assets\n",
      "71/71 [==============================] - 96s 1s/step - loss: 1.8782 - val_loss: 3.6489\n",
      "Epoch 23/30\n",
      "71/71 [==============================] - ETA: 0s - loss: 1.7154\n",
      "Epoch 00023: val_loss improved from 3.64895 to 3.57203, saving model to model.h1.rkc_nlp_mt\n",
      "INFO:tensorflow:Assets written to: model.h1.rkc_nlp_mt/assets\n",
      "71/71 [==============================] - 96s 1s/step - loss: 1.7154 - val_loss: 3.5720\n",
      "Epoch 24/30\n",
      "71/71 [==============================] - ETA: 0s - loss: 1.5695\n",
      "Epoch 00024: val_loss did not improve from 3.57203\n",
      "71/71 [==============================] - 85s 1s/step - loss: 1.5695 - val_loss: 3.6578\n",
      "Epoch 25/30\n",
      "71/71 [==============================] - ETA: 0s - loss: 1.4353\n",
      "Epoch 00025: val_loss improved from 3.57203 to 3.55894, saving model to model.h1.rkc_nlp_mt\n",
      "INFO:tensorflow:Assets written to: model.h1.rkc_nlp_mt/assets\n",
      "71/71 [==============================] - 94s 1s/step - loss: 1.4353 - val_loss: 3.5589\n",
      "Epoch 26/30\n",
      "71/71 [==============================] - ETA: 0s - loss: 1.3061\n",
      "Epoch 00026: val_loss improved from 3.55894 to 3.53114, saving model to model.h1.rkc_nlp_mt\n",
      "INFO:tensorflow:Assets written to: model.h1.rkc_nlp_mt/assets\n",
      "71/71 [==============================] - 97s 1s/step - loss: 1.3061 - val_loss: 3.5311\n",
      "Epoch 27/30\n",
      "71/71 [==============================] - ETA: 0s - loss: 1.1781\n",
      "Epoch 00027: val_loss improved from 3.53114 to 3.45918, saving model to model.h1.rkc_nlp_mt\n",
      "INFO:tensorflow:Assets written to: model.h1.rkc_nlp_mt/assets\n",
      "71/71 [==============================] - 96s 1s/step - loss: 1.1781 - val_loss: 3.4592\n",
      "Epoch 28/30\n",
      "71/71 [==============================] - ETA: 0s - loss: 1.0671\n",
      "Epoch 00028: val_loss improved from 3.45918 to 3.45107, saving model to model.h1.rkc_nlp_mt\n",
      "INFO:tensorflow:Assets written to: model.h1.rkc_nlp_mt/assets\n",
      "71/71 [==============================] - 96s 1s/step - loss: 1.0671 - val_loss: 3.4511\n",
      "Epoch 29/30\n",
      "71/71 [==============================] - ETA: 0s - loss: 0.9551\n",
      "Epoch 00029: val_loss did not improve from 3.45107\n",
      "71/71 [==============================] - 85s 1s/step - loss: 0.9551 - val_loss: 3.4546\n",
      "Epoch 30/30\n",
      "71/71 [==============================] - ETA: 0s - loss: 0.8604\n",
      "Epoch 00030: val_loss improved from 3.45107 to 3.42500, saving model to model.h1.rkc_nlp_mt\n",
      "INFO:tensorflow:Assets written to: model.h1.rkc_nlp_mt/assets\n",
      "71/71 [==============================] - 94s 1s/step - loss: 0.8604 - val_loss: 3.4250\n"
     ]
    }
   ],
   "source": [
    "filename = 'model.h1.rkc_nlp_mt'\n",
    "checkpoint = ModelCheckpoint(filename, monitor='val_loss', verbose=1, save_best_only=True, mode='min')\n",
    "\n",
    "# train model\n",
    "history = model.fit(trainX, trainY.reshape(trainY.shape[0], trainY.shape[1], 1),\n",
    "                    epochs=30, batch_size=512, validation_split = 0.2,callbacks=[checkpoint], \n",
    "                    verbose=1)"
   ]
  },
  {
   "cell_type": "code",
   "execution_count": null,
   "metadata": {
    "id": "Z4N7pxWFiozi",
    "outputId": "acf6c7bc-58b5-4634-fe20-73f01037652b"
   },
   "outputs": [
    {
     "data": {
      "image/png": "[encoded data removed]",
      "text/plain": [
       "<Figure size 432x288 with 1 Axes>"
      ]
     },
     "metadata": {
      "needs_background": "light",
      "tags": []
     },
     "output_type": "display_data"
    }
   ],
   "source": [
    "plt.plot(history.history['loss'])\n",
    "plt.plot(history.history['val_loss'])\n",
    "plt.legend(['train','validation'])\n",
    "plt.show()"
   ]
  },
  {
   "cell_type": "code",
   "execution_count": null,
   "metadata": {
    "id": "LNtCGQzuiozk"
   },
   "outputs": [],
   "source": [
    "model = load_model('model.h1.rkc_nlp_mt')\n",
    "preds = model.predict_classes(testX.reshape((testX.shape[0],testX.shape[1])))"
   ]
  },
  {
   "cell_type": "code",
   "execution_count": null,
   "metadata": {
    "id": "FGG-L3gFiozn"
   },
   "outputs": [],
   "source": [
    "def get_word(n, tokenizer):\n",
    "      for word, index in tokenizer.word_index.items():\n",
    "          if index == n:\n",
    "              return word\n",
    "      return None"
   ]
  },
  {
   "cell_type": "markdown",
   "metadata": {
    "id": "DbegEfF8msiA"
   },
   "source": [
    "Converting predictions into text"
   ]
  },
  {
   "cell_type": "code",
   "execution_count": null,
   "metadata": {
    "id": "LQ3v7UQHiozq"
   },
   "outputs": [],
   "source": [
    "preds_text = []\n",
    "for i in preds:\n",
    "       temp = []\n",
    "       for j in range(len(i)):\n",
    "            t = get_word(i[j], new_tokenizer)\n",
    "            if j > 0:\n",
    "                if (t == get_word(i[j-1], new_tokenizer)) or (t == None):\n",
    "                     temp.append('')\n",
    "                else:\n",
    "                     temp.append(t)\n",
    "            else:\n",
    "                   if(t == None):\n",
    "                          temp.append('')\n",
    "                   else:\n",
    "                          temp.append(t) \n",
    "\n",
    "       preds_text.append(' '.join(temp))"
   ]
  },
  {
   "cell_type": "markdown",
   "metadata": {
    "id": "jEPI2QTCmwXA"
   },
   "source": [
    "**Calculating BLEU score**"
   ]
  },
  {
   "cell_type": "code",
   "execution_count": null,
   "metadata": {
    "id": "XOIVOMHZiozt"
   },
   "outputs": [],
   "source": [
    "import  nltk.translate.bleu_score as bleu"
   ]
  },
  {
   "cell_type": "code",
   "execution_count": null,
   "metadata": {
    "id": "Fl9Dswsjiozx"
   },
   "outputs": [],
   "source": [
    "import numpy as np\n",
    "arr = np.array(test[:,0]).tolist()"
   ]
  },
  {
   "cell_type": "code",
   "execution_count": null,
   "metadata": {
    "id": "1bZH_Dcxioz0"
   },
   "outputs": [],
   "source": [
    "\n",
    "hypothesis_tokens = [line.split(' ') for line in preds_text]\n",
    "references_tokens = [[line.split(' ')] for line in arr]\n"
   ]
  },
  {
   "cell_type": "code",
   "execution_count": null,
   "metadata": {
    "id": "UgY6U2MZioz4",
    "outputId": "63075c1d-2a33-44b9-a391-bea4a4ea1a8a"
   },
   "outputs": [
    {
     "name": "stdout",
     "output_type": "stream",
     "text": [
      "BLEU Score: 0.50195087822108594\n"
     ]
    }
   ],
   "source": [
    "print(\"BLEU Score: \",bleu.corpus_bleu(references_tokens, hypothesis_tokens))\n"
   ]
  },
  {
   "cell_type": "markdown",
   "metadata": {
    "id": "BfoTN9uzm26q"
   },
   "source": [
    "# Aknowledgements\n",
    "\n",
    "* [Tips on Building NMT](https://github.com/neubig/nmt-tips)\n",
    "* [BLEU Score in Detail](https://towardsdatascience.com/bleu-bilingual-evaluation-understudy-2b4eab9bcfd1)\n",
    "* [StackShare](https://stackabuse.com/the-naive-bayes-algorithm-in-python-with-scikit-learn/)"
   ]
  }
 ],
 "metadata": {
  "colab": {
   "name": "IrishStandardization (1).ipynb",
   "provenance": []
  },
  "kernelspec": {
   "display_name": "Python 3",
   "language": "python",
   "name": "python3"
  },
  "language_info": {
   "codemirror_mode": {
    "name": "ipython",
    "version": 3
   },
   "file_extension": ".py",
   "mimetype": "text/x-python",
   "name": "python",
   "nbconvert_exporter": "python",
   "pygments_lexer": "ipython3",
   "version": "3.8.5"
  }
 },
 "nbformat": 4,
 "nbformat_minor": 0
}
